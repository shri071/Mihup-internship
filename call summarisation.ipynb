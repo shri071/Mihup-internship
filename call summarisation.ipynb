{
 "cells": [
  {
   "cell_type": "markdown",
   "metadata": {},
   "source": [
    "# Text summarisation using nltk and cosine similarity"
   ]
  },
  {
   "cell_type": "markdown",
   "metadata": {},
   "source": [
    "### Import important libraries"
   ]
  },
  {
   "cell_type": "code",
   "execution_count": 143,
   "metadata": {},
   "outputs": [],
   "source": [
    "from nltk.corpus import stopwords\n",
    "from nltk.cluster.util import cosine_distance\n",
    "import numpy as np\n",
    "import networkx as nx\n",
    "from nltk.tokenize import sent_tokenize"
   ]
  },
  {
   "cell_type": "markdown",
   "metadata": {},
   "source": [
    "### Create a function to read input file"
   ]
  },
  {
   "cell_type": "code",
   "execution_count": 144,
   "metadata": {},
   "outputs": [],
   "source": [
    "def read_csfile(cs_file):\n",
    "    file = open(cs_file, \"r\")\n",
    "    filedata = file.readlines()\n",
    "    article = filedata[0].split(\". \")\n",
    "    sentences = []\n",
    "    \n",
    "    for sentence in article:\n",
    "        print(sentence)\n",
    "        sentences.append(sentence.replace(\"[^a-zA-Z]\", \" \").split(\" \"))\n",
    "    sentences.pop() \n",
    "    \n",
    "\n",
    "    return sentences"
   ]
  },
  {
   "cell_type": "markdown",
   "metadata": {},
   "source": [
    "### Create a function to analyse the sentence similarity"
   ]
  },
  {
   "cell_type": "markdown",
   "metadata": {},
   "source": [
    "##### We first convert the sentences into vectors and then find cosine distance between them"
   ]
  },
  {
   "cell_type": "code",
   "execution_count": 145,
   "metadata": {},
   "outputs": [],
   "source": [
    "def sentence_similarity(sent1, sent2, stopwords=None):\n",
    "    if stopwords is None:\n",
    "        stopwords = []\n",
    " \n",
    "    sent1 = [w.lower() for w in sent1]  \n",
    "    sent2 = [w.lower() for w in sent2]\n",
    " \n",
    "    all_words = list(set(sent1 + sent2)) #this line will give each distinct letter in the sentence\n",
    " \n",
    "    vector1 = [0] * len(all_words)\n",
    "    vector2 = [0] * len(all_words)\n",
    " \n",
    "    # build the vector for the first sentence\n",
    "    for w in sent1:\n",
    "        if w in stopwords:\n",
    "            continue\n",
    "        vector1[all_words.index(w)] += 1\n",
    " \n",
    "    # build the vector for the second sentence\n",
    "    for w in sent2:\n",
    "        if w in stopwords:\n",
    "            continue\n",
    "        vector2[all_words.index(w)] += 1\n",
    " \n",
    "    return 1 - cosine_distance(vector1, vector2)"
   ]
  },
  {
   "cell_type": "markdown",
   "metadata": {},
   "source": [
    "### Build a matrix of sentence similarity "
   ]
  },
  {
   "cell_type": "code",
   "execution_count": 146,
   "metadata": {},
   "outputs": [],
   "source": [
    "def build_similarity_matrix(sentences, stop_words):\n",
    "    # Create an empty similarity matrix\n",
    "    similarity_matrix = np.zeros((len(sentences), len(sentences)))\n",
    " \n",
    "    for idx1 in range(len(sentences)):\n",
    "        for idx2 in range(len(sentences)):\n",
    "            if idx1 == idx2: #ignore if both are same sentences\n",
    "                continue \n",
    "            similarity_matrix[idx1][idx2] = sentence_similarity(sentences[idx1], sentences[idx2], stop_words)\n",
    "\n",
    "    return similarity_matrix"
   ]
  },
  {
   "cell_type": "markdown",
   "metadata": {},
   "source": [
    "### Finally call all the above funtions in single function for call summary"
   ]
  },
  {
   "cell_type": "code",
   "execution_count": 166,
   "metadata": {},
   "outputs": [],
   "source": [
    "def generate_call_summary(cs_file, top_n=2):\n",
    "    stop_words = stopwords.words('english')\n",
    "    summarize_text = []\n",
    "\n",
    "    # Step 1 - Read text anc split it\n",
    "    sentences =  read_csfile(cs_file)\n",
    "\n",
    "    # Step 2 - Generate Similary Martix across sentences\n",
    "    sentence_similarity_martix = build_similarity_matrix(sentences, stop_words)\n",
    "\n",
    "    # Step 3 - Rank sentences in similarity martix\n",
    "    sentence_similarity_graph = nx.from_numpy_array(sentence_similarity_martix)\n",
    "    scores = nx.pagerank(sentence_similarity_graph)\n",
    "\n",
    "    # Step 4 - Sort the rank and pick top sentences\n",
    "    ranked_sentence = sorted(((scores[i],s) for i,s in enumerate(sentences)), reverse=True)    \n",
    "    print(\"Indexes of top ranked_sentence order are \", ranked_sentence)    \n",
    "\n",
    "    for i in range(top_n):\n",
    "         summarize_text.append(\" \".join(ranked_sentence[i][1]))\n",
    "\n",
    "    # Step 5 - Offcourse, output the summarize texr\n",
    "    print(\"Summarize Text: \\n\", \". \".join(summarize_text))\n",
    "\n"
   ]
  },
  {
   "cell_type": "code",
   "execution_count": 167,
   "metadata": {},
   "outputs": [
    {
     "name": "stdout",
     "output_type": "stream",
     "text": [
      "In an article in Cell, National Institutes of Health-funded researchers described how they used advanced genetic engineering techniques to transform a bacterial protein into a new research tool that may help monitor serotonin transmission with greater fidelity than current methods.Preclinical experiments, primarily in mice, showed that the sensor could detect subtle, real-time changes in brain serotonin levels during sleep, fear, and social interactions, as well as test the effectiveness of new psychoactive drugs.The study was funded, in part, by the NIH''s Brain Research through Advancing Innovative Neurotechnologies (BRAIN) Initiative which aims to revolutionize our understanding of the brain under healthy and disease conditions.The study was led by researchers in the lab of Lin Tian, PhD, principal investigator at the University of California Davis School of Medicine\n",
      "Current methods can only detect broad changes in serotonin signaling\n",
      "In this study, the researchers transformed a nutrient-grabbing, Venus flytrap-shaped bacterial protein into a highly sensitive sensor that fluorescently lights up when it captures serotonin.Previously, scientists in the lab of Loren L\n",
      "Looger, PhD, Howard Hughes Medical Institute Janelia Research Campus, Ashburn, Virginia, used traditional genetic engineering techniques to convert the bacterial protein into a sensor of the neurotransmitter acetylcholine.The protein, called OpuBC, normally snags the nutrient choline, which has a similar shape to acetylcholine\n",
      "For this study, the Tian lab worked with Dr\n",
      "Looger''s team and the lab of Viviana Gradinaru, Ph.D., Caltech, Pasadena, California, to show that they needed the added help of artificial intelligence to completely redesign OpuBC as a serotonin catcher.The researchers used machine learning algorithms to help a computer ''think up'' 250,000 new designs\n",
      "After three rounds of testing, the scientists settled on one\n",
      "Initial experiments suggested that the new sensor reliably detected serotonin at different levels in the brain while having little or no reaction to other neurotransmitters or similarly shaped drugs.Experiments in mouse brain slices showed that the sensor responded to serotonin signals sent between neurons at synaptic communications points\n",
      "Meanwhile, experiments on cells in petri dishes suggested that the sensor could effectively monitor changes in these signals caused by drugs, including cocaine, MDMA (also known as ecstasy) and several commonly used antidepressants.Finally, experiments in mice showed that the sensor could help scientists study serotonin neurotransmission under more natural conditions\n",
      "For instance, the researchers witnessed an expected rise in serotonin levels when mice were awake and a fall as mice fell asleep.\n",
      "\n",
      "Indexes of top ranked_sentence order are  [(0.18727147716821582, ['In', 'an', 'article', 'in', 'Cell,', 'National', 'Institutes', 'of', 'Health-funded', 'researchers', 'described', 'how', 'they', 'used', 'advanced', 'genetic', 'engineering', 'techniques', 'to', 'transform', 'a', 'bacterial', 'protein', 'into', 'a', 'new', 'research', 'tool', 'that', 'may', 'help', 'monitor', 'serotonin', 'transmission', 'with', 'greater', 'fidelity', 'than', 'current', 'methods.Preclinical', 'experiments,', 'primarily', 'in', 'mice,', 'showed', 'that', 'the', 'sensor', 'could', 'detect', 'subtle,', 'real-time', 'changes', 'in', 'brain', 'serotonin', 'levels', 'during', 'sleep,', 'fear,', 'and', 'social', 'interactions,', 'as', 'well', 'as', 'test', 'the', 'effectiveness', 'of', 'new', 'psychoactive', 'drugs.The', 'study', 'was', 'funded,', 'in', 'part,', 'by', 'the', \"NIH''s\", 'Brain', 'Research', 'through', 'Advancing', 'Innovative', 'Neurotechnologies', '(BRAIN)', 'Initiative', 'which', 'aims', 'to', 'revolutionize', 'our', 'understanding', 'of', 'the', 'brain', 'under', 'healthy', 'and', 'disease', 'conditions.The', 'study', 'was', 'led', 'by', 'researchers', 'in', 'the', 'lab', 'of', 'Lin', 'Tian,', 'PhD,', 'principal', 'investigator', 'at', 'the', 'University', 'of', 'California', 'Davis', 'School', 'of', 'Medicine']), (0.1546008157846669, ['Meanwhile,', 'experiments', 'on', 'cells', 'in', 'petri', 'dishes', 'suggested', 'that', 'the', 'sensor', 'could', 'effectively', 'monitor', 'changes', 'in', 'these', 'signals', 'caused', 'by', 'drugs,', 'including', 'cocaine,', 'MDMA', '(also', 'known', 'as', 'ecstasy)', 'and', 'several', 'commonly', 'used', 'antidepressants.Finally,', 'experiments', 'in', 'mice', 'showed', 'that', 'the', 'sensor', 'could', 'help', 'scientists', 'study', 'serotonin', 'neurotransmission', 'under', 'more', 'natural', 'conditions']), (0.14327681387245558, ['In', 'this', 'study,', 'the', 'researchers', 'transformed', 'a', 'nutrient-grabbing,', 'Venus', 'flytrap-shaped', 'bacterial', 'protein', 'into', 'a', 'highly', 'sensitive', 'sensor', 'that', 'fluorescently', 'lights', 'up', 'when', 'it', 'captures', 'serotonin.Previously,', 'scientists', 'in', 'the', 'lab', 'of', 'Loren', 'L']), (0.14162869174487625, ['Initial', 'experiments', 'suggested', 'that', 'the', 'new', 'sensor', 'reliably', 'detected', 'serotonin', 'at', 'different', 'levels', 'in', 'the', 'brain', 'while', 'having', 'little', 'or', 'no', 'reaction', 'to', 'other', 'neurotransmitters', 'or', 'similarly', 'shaped', 'drugs.Experiments', 'in', 'mouse', 'brain', 'slices', 'showed', 'that', 'the', 'sensor', 'responded', 'to', 'serotonin', 'signals', 'sent', 'between', 'neurons', 'at', 'synaptic', 'communications', 'points']), (0.1038825873935545, [\"Looger''s\", 'team', 'and', 'the', 'lab', 'of', 'Viviana', 'Gradinaru,', 'Ph.D.,', 'Caltech,', 'Pasadena,', 'California,', 'to', 'show', 'that', 'they', 'needed', 'the', 'added', 'help', 'of', 'artificial', 'intelligence', 'to', 'completely', 'redesign', 'OpuBC', 'as', 'a', 'serotonin', 'catcher.The', 'researchers', 'used', 'machine', 'learning', 'algorithms', 'to', 'help', 'a', 'computer', \"''think\", \"up''\", '250,000', 'new', 'designs']), (0.08415969324262378, ['Current', 'methods', 'can', 'only', 'detect', 'broad', 'changes', 'in', 'serotonin', 'signaling']), (0.08187526914143406, ['Looger,', 'PhD,', 'Howard', 'Hughes', 'Medical', 'Institute', 'Janelia', 'Research', 'Campus,', 'Ashburn,', 'Virginia,', 'used', 'traditional', 'genetic', 'engineering', 'techniques', 'to', 'convert', 'the', 'bacterial', 'protein', 'into', 'a', 'sensor', 'of', 'the', 'neurotransmitter', 'acetylcholine.The', 'protein,', 'called', 'OpuBC,', 'normally', 'snags', 'the', 'nutrient', 'choline,', 'which', 'has', 'a', 'similar', 'shape', 'to', 'acetylcholine']), (0.06411163513822993, ['For', 'this', 'study,', 'the', 'Tian', 'lab', 'worked', 'with', 'Dr']), (0.03919301651394316, ['After', 'three', 'rounds', 'of', 'testing,', 'the', 'scientists', 'settled', 'on', 'one'])]\n",
      "Summarize Text: \n",
      " In an article in Cell, National Institutes of Health-funded researchers described how they used advanced genetic engineering techniques to transform a bacterial protein into a new research tool that may help monitor serotonin transmission with greater fidelity than current methods.Preclinical experiments, primarily in mice, showed that the sensor could detect subtle, real-time changes in brain serotonin levels during sleep, fear, and social interactions, as well as test the effectiveness of new psychoactive drugs.The study was funded, in part, by the NIH''s Brain Research through Advancing Innovative Neurotechnologies (BRAIN) Initiative which aims to revolutionize our understanding of the brain under healthy and disease conditions.The study was led by researchers in the lab of Lin Tian, PhD, principal investigator at the University of California Davis School of Medicine. Meanwhile, experiments on cells in petri dishes suggested that the sensor could effectively monitor changes in these signals caused by drugs, including cocaine, MDMA (also known as ecstasy) and several commonly used antidepressants.Finally, experiments in mice showed that the sensor could help scientists study serotonin neurotransmission under more natural conditions\n"
     ]
    }
   ],
   "source": [
    "generate_call_summary( \"newsarticle.txt\", top_n=2)"
   ]
  }
 ],
 "metadata": {
  "kernelspec": {
   "display_name": "Python 3",
   "language": "python",
   "name": "python3"
  },
  "language_info": {
   "codemirror_mode": {
    "name": "ipython",
    "version": 3
   },
   "file_extension": ".py",
   "mimetype": "text/x-python",
   "name": "python",
   "nbconvert_exporter": "python",
   "pygments_lexer": "ipython3",
   "version": "3.8.5"
  }
 },
 "nbformat": 4,
 "nbformat_minor": 4
}
